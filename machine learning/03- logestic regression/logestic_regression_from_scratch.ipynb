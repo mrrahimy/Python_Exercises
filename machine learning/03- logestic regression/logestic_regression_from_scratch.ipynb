{
 "cells": [
  {
   "cell_type": "code",
   "execution_count": 21,
   "metadata": {},
   "outputs": [
    {
     "data": {
      "text/latex": [
       "$\\displaystyle \n",
       "P(y=1|x,\\mathbf{w}) = \\sigma (\\mathbf{w}^Tx) \\qquad -\\infty <\\mathbf{w}^Tx < \\infty  \\qquad, 0\\leq \\sigma (\\mathbf{w}^Tx) \\leq 1\\\\\n",
       "P(y=0|x,\\mathbf{w}) = 1 - \\sigma (\\mathbf{w}^Tx)    \\\\\n",
       "\\sigma (z) = \\frac{1}{1 + e^{-z}} \\qquad  \\\\\n",
       "\\text {based on maximum likelyhood theory} \\qquad \\mathbf{\\hat{w}} = \\underset{w}{\\arg\\max} \\hspace{0.2cm} \\log \\prod_{i=1}^{n} P(y^{(i)}|x^{(i)},\\mathbf{w}) \\\\\n",
       "P(y^{(i)}|x^{(i)},\\mathbf{w})=\\sigma (\\mathbf{w}^Tx^{(i)})^{y^{(i)}} (1 - \\sigma (\\mathbf{w}^T x^{(i)}))^{(1 - y^{(i)})}\\\\\n",
       "J(w) =\\log \\prod _{i=1}^{n} P(y^{(i)}|x^{(i)}, \\mathbf{w}) = \\sum  _{i=1}^{n} \\log P(y^{(i)}|x^{(i)}, \\mathbf{w}) \n",
       "    = \\sum_{i=1}^{n}[y^{(i)}\\log ( \\sigma (\\mathbf{w} ^T x^{(i)})) + \n",
       "    (1-y^{(i)})\\log (1 - \\sigma (\\mathbf{w} ^ T x^{(i)}))] \\\\\n",
       "\\text {named cross entropy loss function} \\\\\n",
       "\\nabla _w J(w) = \\sum_{i=1}^{n} (\\sigma (\\mathbf{w}^Tx^{(i)}) - y^{(i)})x^{(i)} \\qquad \\text{logestic regression formula (classification 0,1)}\\\\\n",
       "\\nabla _w J(w) = \\sum_{i=1}^{n} (\\mathbf{w}^Tx^{(i)} - y^{(i)})x^{(i)} \\qquad \\text{similar to linear regression formula (regression)} \\\\\n",
       "\\text{no way to solve closed form but because the secon derivative of loss function is: } \\\\\n",
       "    \\frac{y}{\\sigma ^2} + \\frac{1-y}{(1-\\sigma )^2}\n",
       "\\text{always>0 and so its convex, hence the algorithm gradient descent convergea to the global optimum}\n",
       "$"
      ],
      "text/plain": [
       "<IPython.core.display.Math object>"
      ]
     },
     "execution_count": 21,
     "metadata": {},
     "output_type": "execute_result"
    }
   ],
   "source": [
    "from IPython.display import Math\n",
    "formulas = r'''\n",
    "P(y=1|x,\\mathbf{w}) = \\sigma (\\mathbf{w}^Tx) \\qquad -\\infty <\\mathbf{w}^Tx < \\infty  \\qquad, 0\\leq \\sigma (\\mathbf{w}^Tx) \\leq 1\\\\\n",
    "P(y=0|x,\\mathbf{w}) = 1 - \\sigma (\\mathbf{w}^Tx)    \\\\\n",
    "\\sigma (z) = \\frac{1}{1 + e^{-z}} \\qquad  \\\\\n",
    "\\text {based on maximum likelyhood theory} \\qquad \\mathbf{\\hat{w}} = \\underset{w}{\\arg\\max} \\hspace{0.2cm} \\log \\prod_{i=1}^{n} P(y^{(i)}|x^{(i)},\\mathbf{w}) \\\\\n",
    "P(y^{(i)}|x^{(i)},\\mathbf{w})=\\sigma (\\mathbf{w}^Tx^{(i)})^{y^{(i)}} (1 - \\sigma (\\mathbf{w}^T x^{(i)}))^{(1 - y^{(i)})}\\\\\n",
    "J(w) =\\log \\prod _{i=1}^{n} P(y^{(i)}|x^{(i)}, \\mathbf{w}) = \\sum  _{i=1}^{n} \\log P(y^{(i)}|x^{(i)}, \\mathbf{w}) \n",
    "    = \\sum_{i=1}^{n}[y^{(i)}\\log ( \\sigma (\\mathbf{w} ^T x^{(i)})) + \n",
    "    (1-y^{(i)})\\log (1 - \\sigma (\\mathbf{w} ^ T x^{(i)}))] \\\\\n",
    "\\text {named cross entropy loss function} \\\\\n",
    "\\nabla _w J(w) = \\sum_{i=1}^{n} (\\sigma (\\mathbf{w}^Tx^{(i)}) - y^{(i)})x^{(i)} \\qquad \\text{logestic regression formula (classification 0,1)}\\\\\n",
    "\\nabla _w J(w) = \\sum_{i=1}^{n} (\\mathbf{w}^Tx^{(i)} - y^{(i)})x^{(i)} \\qquad \\text{similar to linear regression formula (regression)} \\\\\n",
    "\\text{no way to solve closed form but because the secon derivative of loss function is: } \\\\\n",
    "    \\frac{y}{\\sigma ^2} + \\frac{1-y}{(1-\\sigma )^2}\n",
    "\\text{always>0 and so its convex, hence the algorithm gradient descent convergea to the global optimum}\n",
    "'''\n",
    "Math(formulas)"
   ]
  },
  {
   "cell_type": "code",
   "execution_count": 22,
   "metadata": {},
   "outputs": [],
   "source": [
    "import numpy as np\n",
    "import matplotlib.pyplot as plt\n",
    "from sklearn.datasets import load_breast_cancer\n",
    "from sklearn.preprocessing import StandardScaler\n",
    "from sklearn.model_selection import train_test_split\n",
    "from sklearn.metrics import confusion_matrix\n",
    "import seaborn as sns"
   ]
  },
  {
   "cell_type": "code",
   "execution_count": 31,
   "metadata": {},
   "outputs": [],
   "source": [
    "class binary_logestic_regression():\n",
    "    def __init__(self, epoch=1000, etha=0.01, Precision_treshold = 0.90, recall_treshold=0.90, NPV_treshold = 0.90 ,F1_treshold = 0.80):\n",
    "        self.epoch = epoch\n",
    "        self.etha = etha # learning rate\n",
    "        self.w = None\n",
    "        self.accuracy = 0\n",
    "        self.loss_hist =[]\n",
    "        \n",
    "        self.TP = None\n",
    "        self.TN = None\n",
    "        self.FP = None\n",
    "        self.FN = None\n",
    "        self.Precision_treshold = Precision_treshold\n",
    "        self.NPV_treshold = NPV_treshold\n",
    "        self.F1_treshold = F1_treshold\n",
    "        self.Recall_treshold = recall_treshold        \n",
    "    \n",
    "    def sigmoid(self, z):\n",
    "        return 1 / (1 + np.exp(-z))\n",
    "    \n",
    "    def predict_train(self, w, x):\n",
    "        return(self.sigmoid(  x @ w ))\n",
    "    \n",
    "    def loss (self, w, x, y):\n",
    "        p = self.predict_train(w, x) #p: probability\n",
    "        loss = -np.mean(y * np.log(p) + (1 - y) * np.log(1 - p)) #loss is average\n",
    "        return loss\n",
    "\n",
    "    def gradient (self, w, x, y):\n",
    "        p = self.predict_train(w, x) #p: probability\n",
    "        errors = p - y\n",
    "        gradient = x.T @ errors / len(y)\n",
    "        return gradient \n",
    "    \n",
    "    def fit(self, x, y):\n",
    "        n, m = x.shape #samples, features\n",
    "        self.w = np.zeros(m+1)\n",
    "        x = np.c_[np.ones(n), x]\n",
    "        for ep in range(self.epoch):\n",
    "            grad = self.gradient(self.w, x, y)\n",
    "            self.w -= self.etha * grad\n",
    "            self.loss_hist.append(self.loss(self.w, x, y))\n",
    "\n",
    "    def predict_val (self, y):\n",
    "        return np.where(y>0.5 , 1 , 0)\n",
    "    \n",
    "    def metric(self, y_hat, y):\n",
    "        self.TP = np.sum((y == 1) & (y_hat == 1))  # True Positive\n",
    "        self.TN = np.sum((y == 0) & (y_hat == 0))  # True Negative\n",
    "        self.FP = np.sum((y == 0) & (y_hat == 1))  # False Positive\n",
    "        self.FN = np.sum((y == 1) & (y_hat == 0))  # False Negative\n",
    "\n",
    "        cm = confusion_matrix(y, y_hat)\n",
    "        plt.figure(figsize=(6,4))\n",
    "        sns.heatmap(cm, annot=True, fmt='d', cmap='Blues',\n",
    "                    xticklabels=['Predicted Malignant', 'Predicted Benign'],\n",
    "                    yticklabels=['Actual Malignant', 'Actual Benign'])\n",
    "        plt.ylabel('Actual')\n",
    "        plt.xlabel('Predicted')\n",
    "        plt.title('Confusion Matrix')\n",
    "        plt.show()\n",
    "    \n",
    "    def Accuracy_t (self):\n",
    "        return (self.TP + self.TN) / (self.TP + self.TN + self.FP + self.FN)\n",
    "    \n",
    "    def Precision (self):\n",
    "        return self.TP / (self.TP + self.FP) if (self.TP + self.FP) > 0 else 0\n",
    "    \n",
    "    def Recall (self):\n",
    "        return self.TP / (self.TP + self.FN) if (self.TP + self.FN) > 0 else 0\n",
    "    \n",
    "    def F1_score(self):\n",
    "        return  2 * (self.Precision() * self.Recall()) / (self.Precision() + self.Recall()) if (self.Precision() + self.Recall()) > 0 else 0\n",
    "    \n",
    "    def Specificity (self):\n",
    "        return self.TN / (self.TN + self.FP) if (self.TN + self.FP) > 0 else 0\n",
    "    \n",
    "    def NPV (self):\n",
    "        return self.TN / (self.TN + self.FN) if (self.TN + self.FN) > 0 else 0\n",
    "    \n",
    "    def show_metrics(self):\n",
    "        print (f'''accuracy:\\t{self.Accuracy_t()}\\nPrecision:\\t{self.Precision()}\\nRecall:\\t\\t{self.Recall()}\\nF1_score:\\t{self.F1_score()}\\nspecificity:\\t{self.Specificity()}\\nNPV:\\t\\t{self.NPV()}''')\n",
    "        print('Based on metric results')\n",
    "        if self.Precision() < self.Precision_treshold or self.Recall() < self.Recall_treshold :\n",
    "            if self.Precision() < self.Precision_treshold  :\n",
    "                print ('When the model detect a case as malignant')\n",
    "            elif self.NPV() < self.NPV_treshold:\n",
    "                print ('When the model detect a case as benign')\n",
    "            print('It is recommended to redo examnations')\n",
    "        if self.F1_score() < self.F1_treshold:\n",
    "            print('Redesign your model')\n",
    "        print(f'TP: {mymodel.TP}\\tTN: {mymodel.TN}\\tFP: {mymodel.FP}\\tFN: {mymodel.FN}')"
   ]
  },
  {
   "cell_type": "code",
   "execution_count": 24,
   "metadata": {},
   "outputs": [],
   "source": [
    "data = load_breast_cancer()\n",
    "x = data.data\n",
    "# x = data.data[:, [2, 4]]\n",
    "y = data.target  # labels (0: malignant, 1: benign)\n",
    "features = data.feature_names\n",
    "# y values are ok for logestic regression algorithm"
   ]
  },
  {
   "cell_type": "code",
   "execution_count": 25,
   "metadata": {},
   "outputs": [],
   "source": [
    "# import pandas as pd\n",
    "# df = pd.DataFrame(x, columns=features)\n",
    "# df.describe"
   ]
  },
  {
   "cell_type": "code",
   "execution_count": 26,
   "metadata": {},
   "outputs": [],
   "source": [
    "x_train, x_test, y_train, y_test = train_test_split (x, y, test_size = 0.2, random_state=42)\n",
    "scaler = StandardScaler()\n",
    "x_train_scaled = scaler.fit_transform(x_train)\n",
    "x_test_scaled = scaler.transform(x_test)"
   ]
  },
  {
   "cell_type": "code",
   "execution_count": 32,
   "metadata": {},
   "outputs": [
    {
     "data": {
      "image/png": "[encoded data removed]",
      "text/plain": [
       "<Figure size 600x400 with 2 Axes>"
      ]
     },
     "metadata": {},
     "output_type": "display_data"
    },
    {
     "name": "stdout",
     "output_type": "stream",
     "text": [
      "accuracy:\t0.9824561403508771\n",
      "Precision:\t0.9859154929577465\n",
      "Recall:\t\t0.9859154929577465\n",
      "F1_score:\t0.9859154929577465\n",
      "specificity:\t0.9767441860465116\n",
      "NPV:\t\t0.9767441860465116\n",
      "Based on metric results\n",
      "TP: 70\tTN: 42\tFP: 1\tFN: 1\n"
     ]
    }
   ],
   "source": [
    "mymodel = binary_logestic_regression()\n",
    "mymodel.fit(x_train_scaled, y_train)\n",
    "x_test_scaled_ = np.c_[np.ones(x_test_scaled.shape[0]), x_test_scaled]\n",
    "y_hat_test = mymodel.predict_val(mymodel.predict_train(mymodel.w,  x_test_scaled_))\n",
    "mymodel.metric(y_hat_test, y_test)\n",
    "mymodel.show_metrics()"
   ]
  },
  {
   "cell_type": "code",
   "execution_count": 28,
   "metadata": {},
   "outputs": [
    {
     "data": {
      "image/png": "[encoded data removed]",
      "text/plain": [
       "<Figure size 640x480 with 1 Axes>"
      ]
     },
     "metadata": {},
     "output_type": "display_data"
    }
   ],
   "source": [
    "plt.plot(range(1,mymodel.epoch+1), mymodel.loss_hist)\n",
    "plt.xlabel('epoch')\n",
    "plt.ylabel('jw(loss)')\n",
    "plt.show()"
   ]
  }
 ],
 "metadata": {
  "kernelspec": {
   "display_name": "Python 3",
   "language": "python",
   "name": "python3"
  },
  "language_info": {
   "codemirror_mode": {
    "name": "ipython",
    "version": 3
   },
   "file_extension": ".py",
   "mimetype": "text/x-python",
   "name": "python",
   "nbconvert_exporter": "python",
   "pygments_lexer": "ipython3",
   "version": "3.12.0"
  }
 },
 "nbformat": 4,
 "nbformat_minor": 2
}

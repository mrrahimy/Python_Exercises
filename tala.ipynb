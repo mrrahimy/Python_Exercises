{
 "cells": [
  {
   "cell_type": "code",
   "execution_count": 8,
   "metadata": {},
   "outputs": [],
   "source": [
    "import os\n",
    "import pandas as pd\n",
    "import requests\n",
    "from bs4 import BeautifulSoup\n",
    "from PIL import Image, ImageTk#, ImageFilter\n",
    "import tkinter as tk\n",
    "from tkinter import ttk\n",
    "from tkinter import filedialog\n",
    "import jdatetime\n",
    "from datetime import datetime, timedelta\n",
    "import time"
   ]
  },
  {
   "cell_type": "code",
   "execution_count": 9,
   "metadata": {},
   "outputs": [],
   "source": [
    "# Constants\n",
    "IMAGE_FOLDER = r\"d:\\slideshow\"\n",
    "logo         = r\"d:\\logo.png\""
   ]
  },
  {
   "cell_type": "code",
   "execution_count": 10,
   "metadata": {},
   "outputs": [],
   "source": [
    "# Function to scrape data from https://www.estjt.ir/price/\n",
    "def scrape_tala_ir():\n",
    "    url = \"https://www.estjt.ir/price/\"\n",
    "    response = requests.get(url)\n",
    "    soup = BeautifulSoup(response.text, \"html.parser\")\n",
    "    # print(soup)\n",
    "    # Locate the table\n",
    "    # Function to extract data from a table\n",
    "    def extract_table_data(table):\n",
    "        headers = [th.text.strip() for th in table.find('thead').find_all('th')]\n",
    "        rows = table.find('tbody').find_all('tr')\n",
    "        data = []\n",
    "        for row in rows:\n",
    "            cells = row.find_all('td')\n",
    "            name = cells[0].text.strip()  # First cell is the name\n",
    "            current_price = cells[1].text.strip()  # Second cell is the current price\n",
    "            data.append([name, current_price])\n",
    "        return headers[:2], data  # Only keep the first two headers\n",
    "\n",
    "    # Extract gold prices\n",
    "    gold_table = soup.find('h2', text='قیمت طلا و آخرین تغییرات').find_next('table')\n",
    "    gold_headers, gold_data = extract_table_data(gold_table)\n",
    "\n",
    "    # Extract coin prices\n",
    "    coin_table = soup.find('h2', text='قیمت سکه و آخرین تغییرات').find_next('table')\n",
    "    coin_headers, coin_data = extract_table_data(coin_table)\n",
    "\n",
    "    # Combine headers and data\n",
    "    all_headers = gold_headers  # Both tables have the same headers\n",
    "    all_data = gold_data + coin_data  # Combine gold and coin data\n",
    "\n",
    "    # Create a DataFrame\n",
    "    df = pd.DataFrame(all_data, columns=all_headers)\n",
    "    print(df.columns)\n",
    "    df = df[['نرخ فعلی', 'نوع طلا']]\n",
    "    df.columns = [['قیمت','عنوان']]\n",
    "    return df\n",
    "\n"
   ]
  },
  {
   "cell_type": "code",
   "execution_count": 11,
   "metadata": {},
   "outputs": [],
   "source": [
    "# Function to update the clock and date\n",
    "def update_clock():\n",
    "    # Get current time\n",
    "    current_time = time.strftime(\"%H:%M:%S\")\n",
    "    # Get Jalali date\n",
    "    jalali_date = jdatetime.datetime.now().strftime(\"%Y/%m/%d\")\n",
    "    # Update the clock and date label\n",
    "    clock_date_label.config(text=f\"تاریخ: {jalali_date}\\nزمان: {current_time}\")\n",
    "    # Update every second\n",
    "    root.after(1000, update_clock)"
   ]
  },
  {
   "cell_type": "code",
   "execution_count": 12,
   "metadata": {},
   "outputs": [],
   "source": [
    "# Function to load images for the slideshow\n",
    "def load_images(folder):\n",
    "    images = []\n",
    "    image_paths = []    \n",
    "    for filename in os.listdir(folder):\n",
    "        if filename.endswith((\".png\", \".jpg\", \".jpeg\")):\n",
    "            img_path = os.path.join(folder, filename)\n",
    "            img = Image.open(img_path)            \n",
    "            try:\n",
    "                # For Pillow 10.0.0 and newer\n",
    "                resized_image = img.resize(((int(root.winfo_screenwidth()*.75)), root.winfo_screenheight()), Image.Resampling.LANCZOS)\n",
    "            except AttributeError:\n",
    "                # For older versions of Pillow\n",
    "                resized_image = img.resize(((int(root.winfo_screenwidth()*.75)), root.winfo_screenheight()), Image.ANTIALIAS)\n",
    "            rgb_image = resized_image.convert(\"RGB\")\n",
    "            rgb_image.save(f\"{filename}.jpg\", \"JPEG\")\n",
    "            images.append(ImageTk.PhotoImage(rgb_image))\n",
    "            image_paths.append(img_path)\n",
    "    return images, image_paths "
   ]
  },
  {
   "cell_type": "code",
   "execution_count": 13,
   "metadata": {},
   "outputs": [],
   "source": [
    "# Function to update the slideshow with random transitions\n",
    "def update_slideshow(index):\n",
    "    if images:\n",
    "        # Get the next image\n",
    "        next_index = (index + 1) % len(images)  # Wrap around to 0 at the end\n",
    "        next_image = images[next_index]\n",
    "\n",
    "        # Update the displayed image\n",
    "        image_label.config(image=next_image)\n",
    "        image_label.image = next_image  # Keep a reference to avoid garbage collection\n",
    "\n",
    "        # Schedule the next slideshow update\n",
    "        root.after(10000, update_slideshow, next_index)  # 3000ms = 3 seconds delay"
   ]
  },
  {
   "cell_type": "code",
   "execution_count": 15,
   "metadata": {},
   "outputs": [],
   "source": [
    "# Function to refresh the page\n",
    "def refresh_page():\n",
    "    scraped_data = scrape_tala_ir()\n",
    "    data_label.config(text=scraped_data.to_string(index=False) + '\\n به روزرسانی شده در ' + time.strftime(\"%H:%M:%S\") )\n",
    "    root.after(10000, refresh_page)  # Refresh every 10 secs"
   ]
  },
  {
   "cell_type": "code",
   "execution_count": 16,
   "metadata": {},
   "outputs": [],
   "source": [
    "# Initialize the main window\n",
    "root = tk.Tk()\n",
    "root.title(\"اطلاعات بازار\")\n",
    "root.geometry(\"1366x768\")\n",
    "\n",
    "# Create a frame for the left side (75% of the window)\n",
    "left_frame = tk.Frame(root, width=int(root.winfo_screenwidth() * 0.75), height=root.winfo_screenheight())\n",
    "left_frame.pack(side=\"left\", fill=\"both\", expand=True,padx=0, pady=0)\n",
    "\n",
    "# Add a label for the slideshow\n",
    "image_label = tk.Label(left_frame)\n",
    "image_label.pack(fill=\"both\", expand=True)\n",
    "\n",
    "# Load images and start the slideshow\n",
    "images, image_paths = load_images(IMAGE_FOLDER)  # Load images and their paths\n",
    "update_slideshow(0)"
   ]
  },
  {
   "cell_type": "code",
   "execution_count": 17,
   "metadata": {},
   "outputs": [],
   "source": [
    "# Create a frame for the right side (25% of the window)\n",
    "right_frame = tk.Frame(root, width=int(root.winfo_screenwidth() * 0.25), height=root.winfo_screenheight())\n",
    "right_frame.pack(side=\"right\", fill=\"both\", expand=True, padx=0, pady=0)\n",
    "\n",
    "\n",
    "logo_image = Image.open(logo)  # Replace with the path to your logo\n",
    "try:\n",
    "    # For Pillow 10.0.0 and newer\n",
    "    logo_image = logo_image.resize((int(root.winfo_screenwidth()*.25), int(root.winfo_screenheight()*.25) ), Image.Resampling.LANCZOS)\n",
    "except AttributeError:\n",
    "    # For older versions of Pillow\n",
    "    logo_image = logo_image.resize((int(root.winfo_screenwidth()*.25), int(root.winfo_screenheight()*.25) ), Image.ANTIALIAS)\n",
    "logo_photo = ImageTk.PhotoImage(logo_image)\n",
    "logo_label = tk.Label(right_frame, image=logo_photo)\n",
    "logo_label.pack(padx=10, side=\"top\", pady=10)\n",
    "\n",
    "# Add a label for scraped data (table-like format)\n",
    "data_label = tk.Label(right_frame, text=\"tala.ir\", font=(\"b nazanin\", 18), bg=\"lightblue\", fg=\"black\", bd=2, relief=\"solid\", justify=\"right\")\n",
    "data_label.pack( padx=10, pady=10, fill=\"x\")\n",
    "\n",
    "\n",
    "# Add a label for the digital clock and Jalali date\n",
    "clock_date_label = tk.Label(right_frame, font=(\"Arial\", 14), bg=\"lightgreen\", fg=\"black\", bd=2, relief=\"solid\")\n",
    "clock_date_label.pack(padx=10, side=\"bottom\", pady=10, fill=\"x\")"
   ]
  },
  {
   "cell_type": "code",
   "execution_count": 18,
   "metadata": {},
   "outputs": [
    {
     "name": "stderr",
     "output_type": "stream",
     "text": [
      "C:\\Users\\mr.rahimy\\AppData\\Local\\Temp\\ipykernel_7656\\810323292.py:21: DeprecationWarning: The 'text' argument to find()-type methods is deprecated. Use 'string' instead.\n",
      "  gold_table = soup.find('h2', text='قیمت طلا و آخرین تغییرات').find_next('table')\n",
      "C:\\Users\\mr.rahimy\\AppData\\Local\\Temp\\ipykernel_7656\\810323292.py:25: DeprecationWarning: The 'text' argument to find()-type methods is deprecated. Use 'string' instead.\n",
      "  coin_table = soup.find('h2', text='قیمت سکه و آخرین تغییرات').find_next('table')\n"
     ]
    },
    {
     "name": "stdout",
     "output_type": "stream",
     "text": [
      "Index(['نوع طلا', 'نرخ فعلی'], dtype='object')\n"
     ]
    },
    {
     "name": "stderr",
     "output_type": "stream",
     "text": [
      "C:\\Users\\mr.rahimy\\AppData\\Local\\Temp\\ipykernel_7656\\810323292.py:21: DeprecationWarning: The 'text' argument to find()-type methods is deprecated. Use 'string' instead.\n",
      "  gold_table = soup.find('h2', text='قیمت طلا و آخرین تغییرات').find_next('table')\n",
      "C:\\Users\\mr.rahimy\\AppData\\Local\\Temp\\ipykernel_7656\\810323292.py:25: DeprecationWarning: The 'text' argument to find()-type methods is deprecated. Use 'string' instead.\n",
      "  coin_table = soup.find('h2', text='قیمت سکه و آخرین تغییرات').find_next('table')\n"
     ]
    },
    {
     "name": "stdout",
     "output_type": "stream",
     "text": [
      "Index(['نوع طلا', 'نرخ فعلی'], dtype='object')\n"
     ]
    },
    {
     "name": "stderr",
     "output_type": "stream",
     "text": [
      "C:\\Users\\mr.rahimy\\AppData\\Local\\Temp\\ipykernel_7656\\810323292.py:21: DeprecationWarning: The 'text' argument to find()-type methods is deprecated. Use 'string' instead.\n",
      "  gold_table = soup.find('h2', text='قیمت طلا و آخرین تغییرات').find_next('table')\n",
      "C:\\Users\\mr.rahimy\\AppData\\Local\\Temp\\ipykernel_7656\\810323292.py:25: DeprecationWarning: The 'text' argument to find()-type methods is deprecated. Use 'string' instead.\n",
      "  coin_table = soup.find('h2', text='قیمت سکه و آخرین تغییرات').find_next('table')\n"
     ]
    },
    {
     "name": "stdout",
     "output_type": "stream",
     "text": [
      "Index(['نوع طلا', 'نرخ فعلی'], dtype='object')\n"
     ]
    },
    {
     "name": "stderr",
     "output_type": "stream",
     "text": [
      "C:\\Users\\mr.rahimy\\AppData\\Local\\Temp\\ipykernel_7656\\810323292.py:21: DeprecationWarning: The 'text' argument to find()-type methods is deprecated. Use 'string' instead.\n",
      "  gold_table = soup.find('h2', text='قیمت طلا و آخرین تغییرات').find_next('table')\n",
      "C:\\Users\\mr.rahimy\\AppData\\Local\\Temp\\ipykernel_7656\\810323292.py:25: DeprecationWarning: The 'text' argument to find()-type methods is deprecated. Use 'string' instead.\n",
      "  coin_table = soup.find('h2', text='قیمت سکه و آخرین تغییرات').find_next('table')\n"
     ]
    },
    {
     "name": "stdout",
     "output_type": "stream",
     "text": [
      "Index(['نوع طلا', 'نرخ فعلی'], dtype='object')\n"
     ]
    }
   ],
   "source": [
    "# Start the clock\n",
    "update_clock() # 1 second\n",
    "\n",
    "# Scrape data from tala.ir and refresh the page every 1 minutes\n",
    "refresh_page()\n",
    "\n",
    "# Run the application\n",
    "root.mainloop()"
   ]
  },
  {
   "cell_type": "code",
   "execution_count": 11,
   "metadata": {},
   "outputs": [],
   "source": [
    "# pyinstaller --onefile --windowed your_script_name.py"
   ]
  },
  {
   "cell_type": "code",
   "execution_count": null,
   "metadata": {},
   "outputs": [],
   "source": []
  }
 ],
 "metadata": {
  "language_info": {
   "name": "python"
  }
 },
 "nbformat": 4,
 "nbformat_minor": 2
}
